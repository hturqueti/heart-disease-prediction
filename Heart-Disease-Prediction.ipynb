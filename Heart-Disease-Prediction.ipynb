{
 "cells": [
  {
   "cell_type": "code",
   "execution_count": null,
   "metadata": {},
   "outputs": [],
   "source": [
    "### Import de bibliotecas usadas ###\n",
    "\n",
    "# Tratamento e manipulação de dados\n",
    "import pandas as pd\n",
    "import numpy as np\n",
    "\n",
    "# Modelos e métricas\n",
    "from sklearn.ensemble import AdaBoostClassifier,\\\n",
    "    BaggingClassifier,\\\n",
    "    RandomForestClassifier\n",
    "from sklearn.svm import SVC\n",
    "from sklearn.cluster import KMeans\n",
    "from sklearn.model_selection import train_test_split,\\\n",
    "    RandomizedSearchCV\n",
    "from sklearn.metrics import accuracy_score,\\\n",
    "    precision_score,\\\n",
    "    recall_score,\\\n",
    "    f1_score\n",
    "\n",
    "# Visualização de dados\n",
    "import matplotlib.pyplot as plt\n",
    "import seaborn as sns"
   ]
  }
 ],
 "metadata": {
  "interpreter": {
   "hash": "58e59ae3854fb031263dea1a35dcf1a4eda0299792f418d26c65e3c663274694"
  },
  "kernelspec": {
   "display_name": "Python 3.9.7 ('base')",
   "language": "python",
   "name": "python3"
  },
  "language_info": {
   "name": "python",
   "version": "3.9.7"
  },
  "orig_nbformat": 4
 },
 "nbformat": 4,
 "nbformat_minor": 2
}
